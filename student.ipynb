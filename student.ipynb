{
 "cells": [
  {
   "cell_type": "code",
   "execution_count": 1,
   "id": "0df40d26",
   "metadata": {},
   "outputs": [
    {
     "name": "stdout",
     "output_type": "stream",
     "text": [
      "Classification Report\n",
      "              precision    recall  f1-score   support\n",
      "\n",
      "           0       1.00      1.00      1.00         1\n",
      "           1       1.00      1.00      1.00         3\n",
      "\n",
      "    accuracy                           1.00         4\n",
      "   macro avg       1.00      1.00      1.00         4\n",
      "weighted avg       1.00      1.00      1.00         4\n",
      "\n"
     ]
    },
    {
     "data": {
      "image/png": "[encoded data removed]",
      "text/plain": [
       "<Figure size 600x400 with 2 Axes>"
      ]
     },
     "metadata": {},
     "output_type": "display_data"
    },
    {
     "name": "stdout",
     "output_type": "stream",
     "text": [
      "----------Predict Your Result-----------\n",
      "Prediction Based on input: Fail\n"
     ]
    },
    {
     "name": "stderr",
     "output_type": "stream",
     "text": [
      "c:\\Users\\unnit\\anaconda3\\Lib\\site-packages\\sklearn\\utils\\validation.py:2739: UserWarning: X does not have valid feature names, but LogisticRegression was fitted with feature names\n",
      "  warnings.warn(\n"
     ]
    }
   ],
   "source": [
    "import pandas as pd\n",
    "import numpy as np\n",
    "from sklearn.preprocessing import StandardScaler, LabelEncoder\n",
    "from sklearn.model_selection import train_test_split\n",
    "from sklearn.linear_model import LogisticRegression\n",
    "from sklearn.metrics import classification_report, confusion_matrix\n",
    "import matplotlib.pyplot as plt\n",
    "import seaborn as sns\n",
    "\n",
    "# Load dataset\n",
    "df = pd.read_csv(\"student_data.csv\")\n",
    "\n",
    "# Encode categorical columns\n",
    "le = LabelEncoder()\n",
    "df['Internet'] = le.fit_transform(df[\"Internet\"])\n",
    "df['Passed'] = le.fit_transform(df[\"Passed\"])\n",
    "\n",
    "# Features and scaling\n",
    "features = ['StudyHours', 'Attendance', 'PastScore', 'SleepHours']\n",
    "scaler = StandardScaler()\n",
    "df_scaled = df.copy()\n",
    "df_scaled[features] = scaler.fit_transform(df[features])\n",
    "\n",
    "# Split data\n",
    "X = df_scaled[features]\n",
    "y = df_scaled['Passed']\n",
    "X_train, X_test, y_train, y_test = train_test_split(X, y, test_size=0.2, random_state=42)\n",
    "\n",
    "# Train model\n",
    "model = LogisticRegression()\n",
    "model.fit(X_train, y_train)\n",
    "\n",
    "# Predictions\n",
    "y_pred = model.predict(X_test)\n",
    "\n",
    "# Evaluation\n",
    "print(\"Classification Report\")\n",
    "print(classification_report(y_test, y_pred))\n",
    "\n",
    "conf_matrix = confusion_matrix(y_test, y_pred)\n",
    "plt.figure(figsize=(6, 4))\n",
    "sns.heatmap(conf_matrix, annot=True, fmt=\"d\", cmap=\"Blues\",\n",
    "            xticklabels=[\"Fail\", \"Pass\"], yticklabels=[\"Fail\", \"Pass\"])\n",
    "plt.xlabel(\"Predicted\")\n",
    "plt.ylabel(\"Actual\")\n",
    "plt.title(\"Confusion Matrix\")\n",
    "plt.tight_layout()\n",
    "plt.show()\n",
    "\n",
    "# Prediction for user input\n",
    "print(\"----------Predict Your Result-----------\")\n",
    "try:\n",
    "    study_hours = float(input(\"Enter study hours: \"))\n",
    "    attendance = float(input(\"Enter attendance: \"))\n",
    "    past_score = float(input(\"Enter past score: \"))\n",
    "    sleep_hours = float(input(\"Enter sleep hours: \"))\n",
    "\n",
    "    user_input_df = pd.DataFrame([{\n",
    "        'StudyHours': study_hours,\n",
    "        'Attendance': attendance,\n",
    "        'PastScore': past_score,\n",
    "        'SleepHours': sleep_hours\n",
    "    }])\n",
    "\n",
    "    user_input_scaled = scaler.transform(user_input_df)\n",
    "\n",
    "    prediction = model.predict(user_input_scaled)[0]\n",
    "\n",
    "    result = \"Pass\" if prediction == 1 else \"Fail\"\n",
    "    print(f\"Prediction Based on input: {result}\")\n",
    "\n",
    "except Exception as e:\n",
    "    print(\"Error!\", e)\n"
   ]
  }
 ],
 "metadata": {
  "kernelspec": {
   "display_name": "base",
   "language": "python",
   "name": "python3"
  },
  "language_info": {
   "codemirror_mode": {
    "name": "ipython",
    "version": 3
   },
   "file_extension": ".py",
   "mimetype": "text/x-python",
   "name": "python",
   "nbconvert_exporter": "python",
   "pygments_lexer": "ipython3",
   "version": "3.13.5"
  }
 },
 "nbformat": 4,
 "nbformat_minor": 5
}
